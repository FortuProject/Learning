{
  "cells": [
    {
      "cell_type": "markdown",
      "metadata": {
        "id": "view-in-github",
        "colab_type": "text"
      },
      "source": [
        "<a href=\"https://colab.research.google.com/github/FortuProject/Learning/blob/master/Multiclass_Keras_Model.ipynb\" target=\"_parent\"><img src=\"https://colab.research.google.com/assets/colab-badge.svg\" alt=\"Open In Colab\"/></a>"
      ]
    },
    {
      "cell_type": "code",
      "execution_count": 3,
      "metadata": {
        "id": "dD-FCF-lDpmm"
      },
      "outputs": [],
      "source": [
        "#!/usr/bin/env python\n",
        "__author__ = \"Sreenivas Bhattiprolu\"\n",
        "__license__ = \"Feel free to copy, I appreciate if you acknowledge Python for Microscopists\"\n",
        "\n",
        "# https://youtu.be/hraKTseOuJA\n",
        "#first number of images\n",
        "#second x\n",
        "#third y\n",
        "#fourth channels (?)\n",
        "#!pip install gspread --upgrade\n",
        "from oauth2client.client import GoogleCredentials\n",
        "import keras\n",
        "from keras.models import Sequential\n",
        "from keras.layers import Dense, Dropout, Flatten, Activation\n",
        "from keras.layers import Conv2D, MaxPooling2D\n",
        "from tensorflow.keras.optimizers import Adam\n",
        "from tensorflow.keras.losses import categorical_crossentropy\n",
        "from tensorflow.keras.utils import to_categorical\n",
        "from tensorflow.keras.datasets import mnist\n",
        "from keras.preprocessing import image\n",
        "import numpy as np\n",
        "import pandas as pd\n",
        "import matplotlib.pyplot as plt\n",
        "from sklearn.model_selection import train_test_split\n",
        "from tqdm import tqdm\n",
        "from keras.layers import BatchNormalization\n",
        "import tensorflow as tf\n",
        "import os\n",
        "import PIL\n",
        "import csv\n",
        "import cv2\n",
        "from google.colab import drive\n",
        "import pathlib\n",
        "from pathlib import Path\n",
        "from PIL import Image\n",
        "from tensorflow.keras.callbacks import TensorBoard\n",
        "from tensorflow.keras.models import Sequential\n",
        "import os\n",
        "import argparse\n",
        "import builtins\n",
        "import imblearn\n",
        "import time\n",
        "import sys"
      ]
    },
    {
      "cell_type": "code",
      "execution_count": 5,
      "metadata": {
        "colab": {
          "base_uri": "https://localhost:8080/"
        },
        "id": "va3PGCSPONnT",
        "outputId": "1a1cf0f8-b195-4919-fef3-85dc582ef2f9"
      },
      "outputs": [
        {
          "output_type": "stream",
          "name": "stdout",
          "text": [
            "Mounted at /content/drive\n"
          ]
        }
      ],
      "source": [
        "#mount to drive\n",
        "\n",
        "from google.colab import drive\n",
        "drive.mount('/content/drive')"
      ]
    },
    {
      "cell_type": "code",
      "execution_count": 6,
      "metadata": {
        "id": "AvOT2SWbORm5"
      },
      "outputs": [],
      "source": [
        "#Authenticate user\n",
        "from google.colab import auth\n",
        "auth.authenticate_user()"
      ]
    },
    {
      "cell_type": "code",
      "execution_count": 7,
      "metadata": {
        "colab": {
          "base_uri": "https://localhost:8080/"
        },
        "id": "FzaNKD0xOXyC",
        "outputId": "8ec707bf-9dda-4122-8bf1-88749259a508"
      },
      "outputs": [
        {
          "output_type": "stream",
          "name": "stdout",
          "text": [
            "/content/drive/MyDrive/code\n"
          ]
        }
      ],
      "source": [
        "# %cd path, must be updated to current on new computer.\n",
        "#%cd /content/drive/MyDrive/Work/SavaLifeCare/Code\n",
        "#Likely will look like\n",
        "%cd /content/drive/MyDrive/code"
      ]
    },
    {
      "cell_type": "code",
      "execution_count": 8,
      "metadata": {
        "colab": {
          "base_uri": "https://localhost:8080/"
        },
        "id": "dshYD3oMJqMt",
        "outputId": "19e3b954-3278-48a7-a423-2f9a2c27a8a5"
      },
      "outputs": [
        {
          "output_type": "stream",
          "name": "stdout",
          "text": [
            "          ID  Normal  Acanthocytes  White Blood Cell  Parasites  Rouleau  \\\n",
            "0  1Cell.png       0             0                 0          0        1   \n",
            "1  2Cell.png       0             1                 0          0        1   \n",
            "2  3Cell.png       1             0                 0          0        1   \n",
            "3  4Cell.png       0             1                 0          0        1   \n",
            "4  5Cell.png       0             1                 0          1        1   \n",
            "\n",
            "   Air Bubbles  \n",
            "0            0  \n",
            "1            0  \n",
            "2            0  \n",
            "3            0  \n",
            "4            0  \n",
            "Index(['ID', 'Normal', 'Acanthocytes', 'White Blood Cell', 'Parasites',\n",
            "       'Rouleau', 'Air Bubbles'],\n",
            "      dtype='object')\n"
          ]
        }
      ],
      "source": [
        "url = \"https://docs.google.com/spreadsheets/d/e/2PACX-1vTOaqLGGzkV03y6rOlXHY4dq939HEd2JCYykue45nmzn5xOs63Vvrjfih1GBqHV4h_6qH_iIHpymDGP/pub?gid=0&single=true&output=csv\"\n",
        "#url2 = 'https://docs.google.com/spreadsheets/d/e/2PACX-1vTZHq6xDJu4WbIfMK3jrNan0Q9oqTt-TCEvw_sKErpf2djq_J820-mrfAChzATEDb7oelGNGY0xiqnQ/pub?output=csv'\n",
        "\n",
        "df = pd.read_csv(url)\n",
        "#Now let us read metadata to get our Y values (multiple lables)\n",
        "print(df.head())     # printing first five rows of the file\n",
        "print(df.columns)\n",
        "\n",
        "#df = df.iloc[:]\n",
        "#Loading only first 1000 datapoints for memory reasons\n",
        "#Need to read images using the tag from metadata.\n",
        "#Otherwise, if read directly from the folder then images may not correspond to\n",
        "#the metadata from the csv file."
      ]
    },
    {
      "cell_type": "code",
      "execution_count": 9,
      "metadata": {
        "id": "nLGS881Ph_Gl"
      },
      "outputs": [],
      "source": [
        "#https://github.com/ashokveda/youtube_ai_ml/blob/master/SMOTE%20-%20Handling%20Imbalance%20Dataset.ipynb\n",
        "#print(df3.shape)\n",
        "#print(df2.shape)\n",
        "#print(df.shape)\n"
      ]
    },
    {
      "cell_type": "code",
      "execution_count": 10,
      "metadata": {
        "colab": {
          "base_uri": "https://localhost:8080/"
        },
        "id": "4bLpqGIHG_mg",
        "outputId": "ae46e191-f144-4b99-a6ec-cf3c4b1248a2"
      },
      "outputs": [
        {
          "output_type": "stream",
          "name": "stdout",
          "text": [
            "Index(['ID', 'Normal', 'Acanthocytes', 'White Blood Cell', 'Parasites',\n",
            "       'Rouleau', 'Air Bubbles'],\n",
            "      dtype='object')\n"
          ]
        }
      ],
      "source": [
        "print(df.columns)\n",
        "#del df['Text']\n",
        "#del df['Number']"
      ]
    },
    {
      "cell_type": "code",
      "execution_count": 11,
      "metadata": {
        "colab": {
          "base_uri": "https://localhost:8080/"
        },
        "id": "zWI4sSotirRW",
        "outputId": "0a32ae98-9dc5-46f8-e47b-d0760fc814bb"
      },
      "outputs": [
        {
          "output_type": "stream",
          "name": "stdout",
          "text": [
            "Index(['ID', 'Normal', 'Acanthocytes', 'White Blood Cell', 'Parasites',\n",
            "       'Rouleau', 'Air Bubbles'],\n",
            "      dtype='object')\n"
          ]
        }
      ],
      "source": [
        "print(df.columns)"
      ]
    },
    {
      "cell_type": "code",
      "execution_count": 12,
      "metadata": {
        "colab": {
          "base_uri": "https://localhost:8080/"
        },
        "id": "_rOKDcWxIUuL",
        "outputId": "87d31b76-c164-436d-cbfa-b5e68a99f2b5"
      },
      "outputs": [
        {
          "output_type": "stream",
          "name": "stdout",
          "text": [
            "7\n"
          ]
        }
      ],
      "source": [
        "length = len(df.columns)\n",
        "print(length)"
      ]
    },
    {
      "cell_type": "code",
      "execution_count": 13,
      "metadata": {
        "colab": {
          "base_uri": "https://localhost:8080/",
          "height": 206
        },
        "id": "XqT4w1eRjITr",
        "outputId": "fd62a001-b6d8-466b-c291-f006366f3fe1"
      },
      "outputs": [
        {
          "output_type": "execute_result",
          "data": {
            "text/plain": [
              "          ID  Normal  Acanthocytes  White Blood Cell  Parasites  Rouleau  \\\n",
              "0  1Cell.png       0             0                 0          0        1   \n",
              "1  2Cell.png       0             1                 0          0        1   \n",
              "2  3Cell.png       1             0                 0          0        1   \n",
              "3  4Cell.png       0             1                 0          0        1   \n",
              "4  5Cell.png       0             1                 0          1        1   \n",
              "\n",
              "   Air Bubbles  \n",
              "0            0  \n",
              "1            0  \n",
              "2            0  \n",
              "3            0  \n",
              "4            0  "
            ],
            "text/html": [
              "\n",
              "  <div id=\"df-17cefda2-16ae-44a1-ba1c-511452b81db8\" class=\"colab-df-container\">\n",
              "    <div>\n",
              "<style scoped>\n",
              "    .dataframe tbody tr th:only-of-type {\n",
              "        vertical-align: middle;\n",
              "    }\n",
              "\n",
              "    .dataframe tbody tr th {\n",
              "        vertical-align: top;\n",
              "    }\n",
              "\n",
              "    .dataframe thead th {\n",
              "        text-align: right;\n",
              "    }\n",
              "</style>\n",
              "<table border=\"1\" class=\"dataframe\">\n",
              "  <thead>\n",
              "    <tr style=\"text-align: right;\">\n",
              "      <th></th>\n",
              "      <th>ID</th>\n",
              "      <th>Normal</th>\n",
              "      <th>Acanthocytes</th>\n",
              "      <th>White Blood Cell</th>\n",
              "      <th>Parasites</th>\n",
              "      <th>Rouleau</th>\n",
              "      <th>Air Bubbles</th>\n",
              "    </tr>\n",
              "  </thead>\n",
              "  <tbody>\n",
              "    <tr>\n",
              "      <th>0</th>\n",
              "      <td>1Cell.png</td>\n",
              "      <td>0</td>\n",
              "      <td>0</td>\n",
              "      <td>0</td>\n",
              "      <td>0</td>\n",
              "      <td>1</td>\n",
              "      <td>0</td>\n",
              "    </tr>\n",
              "    <tr>\n",
              "      <th>1</th>\n",
              "      <td>2Cell.png</td>\n",
              "      <td>0</td>\n",
              "      <td>1</td>\n",
              "      <td>0</td>\n",
              "      <td>0</td>\n",
              "      <td>1</td>\n",
              "      <td>0</td>\n",
              "    </tr>\n",
              "    <tr>\n",
              "      <th>2</th>\n",
              "      <td>3Cell.png</td>\n",
              "      <td>1</td>\n",
              "      <td>0</td>\n",
              "      <td>0</td>\n",
              "      <td>0</td>\n",
              "      <td>1</td>\n",
              "      <td>0</td>\n",
              "    </tr>\n",
              "    <tr>\n",
              "      <th>3</th>\n",
              "      <td>4Cell.png</td>\n",
              "      <td>0</td>\n",
              "      <td>1</td>\n",
              "      <td>0</td>\n",
              "      <td>0</td>\n",
              "      <td>1</td>\n",
              "      <td>0</td>\n",
              "    </tr>\n",
              "    <tr>\n",
              "      <th>4</th>\n",
              "      <td>5Cell.png</td>\n",
              "      <td>0</td>\n",
              "      <td>1</td>\n",
              "      <td>0</td>\n",
              "      <td>1</td>\n",
              "      <td>1</td>\n",
              "      <td>0</td>\n",
              "    </tr>\n",
              "  </tbody>\n",
              "</table>\n",
              "</div>\n",
              "    <div class=\"colab-df-buttons\">\n",
              "\n",
              "  <div class=\"colab-df-container\">\n",
              "    <button class=\"colab-df-convert\" onclick=\"convertToInteractive('df-17cefda2-16ae-44a1-ba1c-511452b81db8')\"\n",
              "            title=\"Convert this dataframe to an interactive table.\"\n",
              "            style=\"display:none;\">\n",
              "\n",
              "  <svg xmlns=\"http://www.w3.org/2000/svg\" height=\"24px\" viewBox=\"0 -960 960 960\">\n",
              "    <path d=\"M120-120v-720h720v720H120Zm60-500h600v-160H180v160Zm220 220h160v-160H400v160Zm0 220h160v-160H400v160ZM180-400h160v-160H180v160Zm440 0h160v-160H620v160ZM180-180h160v-160H180v160Zm440 0h160v-160H620v160Z\"/>\n",
              "  </svg>\n",
              "    </button>\n",
              "\n",
              "  <style>\n",
              "    .colab-df-container {\n",
              "      display:flex;\n",
              "      gap: 12px;\n",
              "    }\n",
              "\n",
              "    .colab-df-convert {\n",
              "      background-color: #E8F0FE;\n",
              "      border: none;\n",
              "      border-radius: 50%;\n",
              "      cursor: pointer;\n",
              "      display: none;\n",
              "      fill: #1967D2;\n",
              "      height: 32px;\n",
              "      padding: 0 0 0 0;\n",
              "      width: 32px;\n",
              "    }\n",
              "\n",
              "    .colab-df-convert:hover {\n",
              "      background-color: #E2EBFA;\n",
              "      box-shadow: 0px 1px 2px rgba(60, 64, 67, 0.3), 0px 1px 3px 1px rgba(60, 64, 67, 0.15);\n",
              "      fill: #174EA6;\n",
              "    }\n",
              "\n",
              "    .colab-df-buttons div {\n",
              "      margin-bottom: 4px;\n",
              "    }\n",
              "\n",
              "    [theme=dark] .colab-df-convert {\n",
              "      background-color: #3B4455;\n",
              "      fill: #D2E3FC;\n",
              "    }\n",
              "\n",
              "    [theme=dark] .colab-df-convert:hover {\n",
              "      background-color: #434B5C;\n",
              "      box-shadow: 0px 1px 3px 1px rgba(0, 0, 0, 0.15);\n",
              "      filter: drop-shadow(0px 1px 2px rgba(0, 0, 0, 0.3));\n",
              "      fill: #FFFFFF;\n",
              "    }\n",
              "  </style>\n",
              "\n",
              "    <script>\n",
              "      const buttonEl =\n",
              "        document.querySelector('#df-17cefda2-16ae-44a1-ba1c-511452b81db8 button.colab-df-convert');\n",
              "      buttonEl.style.display =\n",
              "        google.colab.kernel.accessAllowed ? 'block' : 'none';\n",
              "\n",
              "      async function convertToInteractive(key) {\n",
              "        const element = document.querySelector('#df-17cefda2-16ae-44a1-ba1c-511452b81db8');\n",
              "        const dataTable =\n",
              "          await google.colab.kernel.invokeFunction('convertToInteractive',\n",
              "                                                    [key], {});\n",
              "        if (!dataTable) return;\n",
              "\n",
              "        const docLinkHtml = 'Like what you see? Visit the ' +\n",
              "          '<a target=\"_blank\" href=https://colab.research.google.com/notebooks/data_table.ipynb>data table notebook</a>'\n",
              "          + ' to learn more about interactive tables.';\n",
              "        element.innerHTML = '';\n",
              "        dataTable['output_type'] = 'display_data';\n",
              "        await google.colab.output.renderOutput(dataTable, element);\n",
              "        const docLink = document.createElement('div');\n",
              "        docLink.innerHTML = docLinkHtml;\n",
              "        element.appendChild(docLink);\n",
              "      }\n",
              "    </script>\n",
              "  </div>\n",
              "\n",
              "\n",
              "<div id=\"df-658950bd-1f77-4db5-8272-45e0ffc122ba\">\n",
              "  <button class=\"colab-df-quickchart\" onclick=\"quickchart('df-658950bd-1f77-4db5-8272-45e0ffc122ba')\"\n",
              "            title=\"Suggest charts\"\n",
              "            style=\"display:none;\">\n",
              "\n",
              "<svg xmlns=\"http://www.w3.org/2000/svg\" height=\"24px\"viewBox=\"0 0 24 24\"\n",
              "     width=\"24px\">\n",
              "    <g>\n",
              "        <path d=\"M19 3H5c-1.1 0-2 .9-2 2v14c0 1.1.9 2 2 2h14c1.1 0 2-.9 2-2V5c0-1.1-.9-2-2-2zM9 17H7v-7h2v7zm4 0h-2V7h2v10zm4 0h-2v-4h2v4z\"/>\n",
              "    </g>\n",
              "</svg>\n",
              "  </button>\n",
              "\n",
              "<style>\n",
              "  .colab-df-quickchart {\n",
              "      --bg-color: #E8F0FE;\n",
              "      --fill-color: #1967D2;\n",
              "      --hover-bg-color: #E2EBFA;\n",
              "      --hover-fill-color: #174EA6;\n",
              "      --disabled-fill-color: #AAA;\n",
              "      --disabled-bg-color: #DDD;\n",
              "  }\n",
              "\n",
              "  [theme=dark] .colab-df-quickchart {\n",
              "      --bg-color: #3B4455;\n",
              "      --fill-color: #D2E3FC;\n",
              "      --hover-bg-color: #434B5C;\n",
              "      --hover-fill-color: #FFFFFF;\n",
              "      --disabled-bg-color: #3B4455;\n",
              "      --disabled-fill-color: #666;\n",
              "  }\n",
              "\n",
              "  .colab-df-quickchart {\n",
              "    background-color: var(--bg-color);\n",
              "    border: none;\n",
              "    border-radius: 50%;\n",
              "    cursor: pointer;\n",
              "    display: none;\n",
              "    fill: var(--fill-color);\n",
              "    height: 32px;\n",
              "    padding: 0;\n",
              "    width: 32px;\n",
              "  }\n",
              "\n",
              "  .colab-df-quickchart:hover {\n",
              "    background-color: var(--hover-bg-color);\n",
              "    box-shadow: 0 1px 2px rgba(60, 64, 67, 0.3), 0 1px 3px 1px rgba(60, 64, 67, 0.15);\n",
              "    fill: var(--button-hover-fill-color);\n",
              "  }\n",
              "\n",
              "  .colab-df-quickchart-complete:disabled,\n",
              "  .colab-df-quickchart-complete:disabled:hover {\n",
              "    background-color: var(--disabled-bg-color);\n",
              "    fill: var(--disabled-fill-color);\n",
              "    box-shadow: none;\n",
              "  }\n",
              "\n",
              "  .colab-df-spinner {\n",
              "    border: 2px solid var(--fill-color);\n",
              "    border-color: transparent;\n",
              "    border-bottom-color: var(--fill-color);\n",
              "    animation:\n",
              "      spin 1s steps(1) infinite;\n",
              "  }\n",
              "\n",
              "  @keyframes spin {\n",
              "    0% {\n",
              "      border-color: transparent;\n",
              "      border-bottom-color: var(--fill-color);\n",
              "      border-left-color: var(--fill-color);\n",
              "    }\n",
              "    20% {\n",
              "      border-color: transparent;\n",
              "      border-left-color: var(--fill-color);\n",
              "      border-top-color: var(--fill-color);\n",
              "    }\n",
              "    30% {\n",
              "      border-color: transparent;\n",
              "      border-left-color: var(--fill-color);\n",
              "      border-top-color: var(--fill-color);\n",
              "      border-right-color: var(--fill-color);\n",
              "    }\n",
              "    40% {\n",
              "      border-color: transparent;\n",
              "      border-right-color: var(--fill-color);\n",
              "      border-top-color: var(--fill-color);\n",
              "    }\n",
              "    60% {\n",
              "      border-color: transparent;\n",
              "      border-right-color: var(--fill-color);\n",
              "    }\n",
              "    80% {\n",
              "      border-color: transparent;\n",
              "      border-right-color: var(--fill-color);\n",
              "      border-bottom-color: var(--fill-color);\n",
              "    }\n",
              "    90% {\n",
              "      border-color: transparent;\n",
              "      border-bottom-color: var(--fill-color);\n",
              "    }\n",
              "  }\n",
              "</style>\n",
              "\n",
              "  <script>\n",
              "    async function quickchart(key) {\n",
              "      const quickchartButtonEl =\n",
              "        document.querySelector('#' + key + ' button');\n",
              "      quickchartButtonEl.disabled = true;  // To prevent multiple clicks.\n",
              "      quickchartButtonEl.classList.add('colab-df-spinner');\n",
              "      try {\n",
              "        const charts = await google.colab.kernel.invokeFunction(\n",
              "            'suggestCharts', [key], {});\n",
              "      } catch (error) {\n",
              "        console.error('Error during call to suggestCharts:', error);\n",
              "      }\n",
              "      quickchartButtonEl.classList.remove('colab-df-spinner');\n",
              "      quickchartButtonEl.classList.add('colab-df-quickchart-complete');\n",
              "    }\n",
              "    (() => {\n",
              "      let quickchartButtonEl =\n",
              "        document.querySelector('#df-658950bd-1f77-4db5-8272-45e0ffc122ba button');\n",
              "      quickchartButtonEl.style.display =\n",
              "        google.colab.kernel.accessAllowed ? 'block' : 'none';\n",
              "    })();\n",
              "  </script>\n",
              "</div>\n",
              "\n",
              "    </div>\n",
              "  </div>\n"
            ],
            "application/vnd.google.colaboratory.intrinsic+json": {
              "type": "dataframe",
              "variable_name": "df",
              "summary": "{\n  \"name\": \"df\",\n  \"rows\": 225,\n  \"fields\": [\n    {\n      \"column\": \"ID\",\n      \"properties\": {\n        \"dtype\": \"string\",\n        \"num_unique_values\": 225,\n        \"samples\": [\n          \"10Cell.png\",\n          \"185Cell.png\",\n          \"121Cell.png\"\n        ],\n        \"semantic_type\": \"\",\n        \"description\": \"\"\n      }\n    },\n    {\n      \"column\": \"Normal\",\n      \"properties\": {\n        \"dtype\": \"number\",\n        \"std\": 0,\n        \"min\": 0,\n        \"max\": 1,\n        \"num_unique_values\": 2,\n        \"samples\": [\n          1,\n          0\n        ],\n        \"semantic_type\": \"\",\n        \"description\": \"\"\n      }\n    },\n    {\n      \"column\": \"Acanthocytes\",\n      \"properties\": {\n        \"dtype\": \"number\",\n        \"std\": 0,\n        \"min\": 0,\n        \"max\": 1,\n        \"num_unique_values\": 2,\n        \"samples\": [\n          1,\n          0\n        ],\n        \"semantic_type\": \"\",\n        \"description\": \"\"\n      }\n    },\n    {\n      \"column\": \"White Blood Cell\",\n      \"properties\": {\n        \"dtype\": \"number\",\n        \"std\": 0,\n        \"min\": 0,\n        \"max\": 1,\n        \"num_unique_values\": 2,\n        \"samples\": [\n          1,\n          0\n        ],\n        \"semantic_type\": \"\",\n        \"description\": \"\"\n      }\n    },\n    {\n      \"column\": \"Parasites\",\n      \"properties\": {\n        \"dtype\": \"number\",\n        \"std\": 0,\n        \"min\": 0,\n        \"max\": 1,\n        \"num_unique_values\": 2,\n        \"samples\": [\n          1,\n          0\n        ],\n        \"semantic_type\": \"\",\n        \"description\": \"\"\n      }\n    },\n    {\n      \"column\": \"Rouleau\",\n      \"properties\": {\n        \"dtype\": \"number\",\n        \"std\": 0,\n        \"min\": 0,\n        \"max\": 1,\n        \"num_unique_values\": 2,\n        \"samples\": [\n          0,\n          1\n        ],\n        \"semantic_type\": \"\",\n        \"description\": \"\"\n      }\n    },\n    {\n      \"column\": \"Air Bubbles\",\n      \"properties\": {\n        \"dtype\": \"number\",\n        \"std\": 0,\n        \"min\": 0,\n        \"max\": 1,\n        \"num_unique_values\": 2,\n        \"samples\": [\n          1,\n          0\n        ],\n        \"semantic_type\": \"\",\n        \"description\": \"\"\n      }\n    }\n  ]\n}"
            }
          },
          "metadata": {},
          "execution_count": 13
        }
      ],
      "source": [
        "df.head()"
      ]
    },
    {
      "cell_type": "code",
      "execution_count": null,
      "metadata": {
        "id": "_NFauOss7S-u"
      },
      "outputs": [],
      "source": [
        "#X = df.iloc[:,:-1]\n",
        "#y = df.Outcome\n",
        "#X.head()"
      ]
    },
    {
      "cell_type": "code",
      "execution_count": 14,
      "metadata": {
        "id": "qAPR3vHx7pDe"
      },
      "outputs": [],
      "source": [
        "from sklearn.preprocessing import LabelEncoder\n",
        "enc = LabelEncoder()\n",
        "#X.loc[:,['Normal','Acanthocytes','White Blood Cell','Uric Acid Crystal', 'Spicules', 'Poikilocytes', 'Parasites','Rouleau', 'Ghost Cell', 'Black Dot', 'Echnyocytes', 'Protein Linkage', 'Air Bubbles', 'Fungal Cells ', 'Other']] = \\\n",
        "#X.loc[:,['Normal','Acanthocytes','White Blood Cell','Uric Acid Crystal', 'Spicules', 'Poikilocytes', 'Parasites','Rouleau', 'Ghost Cell', 'Black Dot', 'Echnyocytes', 'Protein Linkage', 'Air Bubbles', 'Fungal Cells ', 'Other']].apply(enc.fit_transform)\n",
        "#X.head()"
      ]
    },
    {
      "cell_type": "code",
      "execution_count": 15,
      "metadata": {
        "id": "a4HBIR1OHafQ"
      },
      "outputs": [],
      "source": [
        "from sklearn.model_selection import train_test_split\n",
        "#X_train,X_test, y_train,y_test = \\\n",
        "#train_test_split(X,y,test_size=0.3,random_state=10)"
      ]
    },
    {
      "cell_type": "code",
      "execution_count": null,
      "metadata": {
        "id": "zHMIoeVcHclt"
      },
      "outputs": [],
      "source": [
        "#from sklearn.neighbors import KNeighborsClassifier\n",
        "#model = KNeighborsClassifier()\n",
        "#model.fit(X_train,y_train)\n",
        "#y_predict = model.predict(X_test)"
      ]
    },
    {
      "cell_type": "code",
      "execution_count": null,
      "metadata": {
        "id": "sqhZaiK3M-Cy"
      },
      "outputs": [],
      "source": [
        "#y_test.shape\n",
        "#ynew = y_test[:,15]"
      ]
    },
    {
      "cell_type": "code",
      "execution_count": null,
      "metadata": {
        "id": "-WitnPz0ND-3"
      },
      "outputs": [],
      "source": [
        "#y_predict.shape"
      ]
    },
    {
      "cell_type": "code",
      "execution_count": null,
      "metadata": {
        "id": "UNCj1BvuKIgY"
      },
      "outputs": [],
      "source": [
        "#from sklearn.metrics import accuracy_score\n",
        "#print(\"Accuracy\", accuracy_score(y_test,y_predict))\n",
        "#pd.crosstab(y_test,y_predict)"
      ]
    },
    {
      "cell_type": "code",
      "execution_count": null,
      "metadata": {
        "id": "nCBnvoayxN2o"
      },
      "outputs": [],
      "source": [
        "#pip install imblearn"
      ]
    },
    {
      "cell_type": "code",
      "execution_count": null,
      "metadata": {
        "id": "p4SZNGyPw6vB"
      },
      "outputs": [],
      "source": [
        "#from imblearn.over_sampling import SMOTE\n",
        "#smote = SMOTE()\n",
        "\n",
        "#make sure it exists.\n",
        "##SMOTE.fit_resample"
      ]
    },
    {
      "cell_type": "code",
      "execution_count": null,
      "metadata": {
        "id": "-y7Tfz6rxZA2"
      },
      "outputs": [],
      "source": [
        "#X_train_smote, y_train_smote = smote.fit_resample(X_train.astype('float'),y_train)"
      ]
    },
    {
      "cell_type": "code",
      "execution_count": null,
      "metadata": {
        "id": "c8zJI6GsxeDP"
      },
      "outputs": [],
      "source": [
        "#print(\"Before SMOTE :\" , Counter(y_train))\n",
        "#print(\"After SMOTE :\" , Counter(y_train_smote))"
      ]
    },
    {
      "cell_type": "code",
      "execution_count": null,
      "metadata": {
        "id": "O0s708Sxxf4P"
      },
      "outputs": [],
      "source": [
        "#model.fit(X_train_smote,y_train_smote)\n",
        "#y_predict = model.predict(X_test)\n",
        "#print(\"Accuracy\", accuracy_score(y_test,y_predict))\n",
        "#pd.crosstab(y_test,y_predict)"
      ]
    },
    {
      "cell_type": "code",
      "execution_count": null,
      "metadata": {
        "id": "W59lxtaQWIj7"
      },
      "outputs": [],
      "source": [
        "#import os\n",
        "#path = %cd /content/drive/MyDrive/Revised_Cells\n",
        "\n",
        "#i = 1\n",
        "#for file in os.listdir(path):\n",
        "#    sol = os.rename(file, '{}Cell.png'.format(i))\n",
        "#    i = i+ 1"
      ]
    },
    {
      "cell_type": "code",
      "execution_count": 16,
      "metadata": {
        "colab": {
          "base_uri": "https://localhost:8080/"
        },
        "id": "5R2ERDkADMcT",
        "outputId": "4e81abd1-b41a-4933-c6e2-e7d21bea792c"
      },
      "outputs": [
        {
          "output_type": "stream",
          "name": "stdout",
          "text": [
            "/content/drive/MyDrive\n"
          ]
        }
      ],
      "source": [
        "#%Image Rename, from other folder\n",
        "\n",
        "path = %cd /content/drive/MyDrive/\n"
      ]
    },
    {
      "cell_type": "code",
      "execution_count": 17,
      "metadata": {
        "colab": {
          "base_uri": "https://localhost:8080/"
        },
        "id": "WbAlEmcVq5xi",
        "outputId": "4bf44b0c-4847-4fdd-a4c4-981c0714b67d"
      },
      "outputs": [
        {
          "output_type": "stream",
          "name": "stdout",
          "text": [
            "Files and directories in ' Revised_Cells/ ' :\n",
            "['questions IA.rtf', 'How to get started with Drive.pdf', 'video series \"roll a ball\".gdoc', 'Van de Langemaat What is Art with pictures and principles.doc', 'Untitled document (18).gdoc', '2015-2016 Foundation Scholarship Application copy.gdoc', 'bongiornoletter2.docx', 'bongiornoletter2.docx.gdoc', 'bongiornoletter.docx', 'Lumin PDF', 'cognitivepsychpresentation.docx', 'Italian Heritage .docx', 'Insurance_and_Liability_Waiver_16_17.pdf', 'Tutorial 1.txt', 'Tutorial 4.txt', 'Tutorial 7.txt', 'CSA_2017 poster.pdf', 'AAU-MEMBERSHIP.pdf', 'FDR Call In Show Survey.pdf', 'scanned application.pdf', 'DisclosureForm.pdf', 'BGD&M-Estimate Form v16a_distributed.pdf', 'Untitled document.pdf', 'Untitled document (17).gdoc', 'Untitled spreadsheet (10).gsheet', 'college', 'Board game', 'board game', 'Internship-20190802T155309Z-001.zip', 'Internship', 'NAD 5?.gdoc', 'AnthonyBongiorno_BoardGame-master', 'autoleveler.gdoc', 'Exam 2.docx', 'Exam 2 correction PDF - Line chart 1.gsheet', 'Copy of homework_grade_calculator.gsheet', 'Copy of phys2331_grade_calculator.gsheet', 'Exam4 concept Physics 2', 'Peer review Biostats.gdoc', 'Lab 2 week3.gdoc', 'Unity course', 'General.ai', '4Raymond.7z', 'Untitled document (16).gdoc', 'BIOE2020', '9 9 2020 - Line chart 1.gsheet', 'Untitled spreadsheet (9).gsheet', 'Project Folder', 'Differences-in-Operation.mp3', 'Combining-SEM-and-TEM-Technology.mp3', 'SEM-Samples.mp3', 'TEM-Samples.mp3', 'SEM-TEM-Requirements-1.mp3', 'SEM-TEM-Requirements-2.mp3', 'SEM-Data-Processing.mp3', 'TEM-Data-Processing.mp3', 'Test 2.gdoc', 'Untitled document (15).gdoc', 'list I guess.gdoc', 'Declaration of Original Work statement (1).docx', 'application for TA .gdoc', 'Untitled document (14).gdoc', 'BIOE 2021', '3d printer lab group', 'L05-Recovery-Sample.mat', 'HW2 - Line chart 1 (1).gsheet', 'HW2 - Line chart 1.gsheet', 'Lab5.m', 'Lab 3 doc.gdoc', 'DC-W-1 Design Controls 3D Printing.docx', 'Teamwork assessment.gdoc', 'Teamwork evaluation form.gdoc', 'Untitled spreadsheet (8).gsheet', 'Lab 6 during lab.gdoc', 'ROMP', 'Timesheet.gdoc', 'Xerox Scan_05262021142718.pdf', 'Xerox Scan_05262021142718.gdoc', 'Bongiorno, Anthony.xlsx', 'Contract(5_27_21)_V_A.gdoc', 'Fortu Openings, middle game, end game.gdoc', 'Fortu finishing touches .gdoc', 'Defeat_Theme.mp3', 'Defeat_Theme.wav', 'ForTu_v8.apk', 'Bongiorno, Anthony (4_6 to 4_25_2021).xlsx', 'Fall 2021', 'Reset teams.gsheet', 'Copy of Bongiorno, Anthony (8_4 to 9_11_2021).xlsx', 'Guat list .gdoc', 'Untitled document (13).gdoc', 'Tecartus.gdoc', 'Weights  - Line chart 1.gsheet', 'Copy of Bongiorno, Anthony (10_26 to 10_8).xlsx', 'Resume2021 (1).pdf', 'Test ', 'Training', 'Spring2022', 'Untitled spreadsheet (7).gsheet', 'FORTU folder', 'Videogames For Students.gslides', 'Copy of Copy of Bongiorno, Anthony (10_26 to 10_8).xlsx', 'Cover letter .gdoc', 'Colab Notebooks', 'Triage', 'Linux_5_10.rar', 'PcBuild_5_10.rar', 'Fortu_7_25_2022', 'fortu8_3_2022.7z', 'Windows Client (1).rar', 'Copy of SDML.ipynb', 'Untitled spreadsheet (6).gsheet', 'Untitled spreadsheet (5).gsheet', 'Work', 'Copy of Super_Sweet_LotNumber_NV003420.pdf', 'code', 'MyNurish Bids 093022-1:2.xlsx', 'Cover Letter.gdoc', 'Untitled document (12).gdoc', 'CellImageDUmp', 'Multiclass_Keras_102822_71Percent.model', 'Multiclass_Keras_102822_64Percent.model', 'Multiclass_Keras_102822_SecondModel.model', 'Multiclass_Keras_103122_Halloween.model', 'Multiclass_Keras_Model_Output', 'Multiclass_Keras_Model', 'Multiclass_Keras_102722.model', 'Multiclass_Keras_110222.model', 'Linux Server.rar', 'Windows Client.rar', 'Christmass 2022 .gdoc', 'Game Logic .gsheet', 'FG.PNG', 'Untitled document (11).gdoc', 'Payroll Setup.xlsx', 'PIDS work', 'Copy of Prostate_Cancer_Task_Role_Chart.gsheet', 'Copy of PIDS - March 15, 11:08\\u202fAM.gsheet', 'Pt 26 – hybrid target –G3+4.pptx', 'risk map ROI outlines March 23, 2023.pptx', 'Thursday Meeting 4 6.gdoc', 'Classifier_modelV4.h5', 'Untitled spreadsheet (4).gsheet', 'Untitled spreadsheet (3).gsheet', 'ForTu.7z', 'UpdatedWork.7z', 'Throw.mp4', 'Sub.mp4', 'output_Pat026_registered.7z', 'Untitled document (10).gdoc', 'Untitled document (9).gdoc', 'Untitled document (8).gdoc', 'Untitled document (7).gdoc', '12-354.png', 'Untitled document (6).gdoc', 'Pat135_hybridSortedInput_standard_Out_real.mat', 'Pat135_hybridSortedInput_quickscan_Out_real.mat', '10_8_23 findings.gdoc', 'Copy of Hybrid output files - August 8, 4:07\\u202fPM.gsheet', 'results.mat', 'output1129 (3).gsheet', 'output1129 (2).gsheet', 'output1129.csv', 'output1129 (1).gsheet', 'output1129.gsheet', 'Charts.gdoc', 'UChicago.ipynb', '12_1_meeting_Trishna_Roger_file', 'Untitled document (5).gdoc', 'Registration reduce PIDS.gsheet', '12_6_23RogerTrishna', 'Untitled document (4).gdoc', 'params_irb17-1.gdoc', 'Resume2021.gdoc', 'Resume2024.pdf', 'Untitled document (3).gdoc', 'TPFN 2_6.gsheet', 'Untitled document (2).gdoc', 'Notes_3_18_24.gdoc', 'Untitled spreadsheet (2).gsheet', 'A.B 12-354 lease.pdf', 'A.B 12-354 lease.gdoc', 'workspace_NoiseMultiplier0_PatientCancer_mask026.mat.mat', 'workspace_NoiseMultiplier0_PatientCancer_mask027.mat.mat', 'workspace_NoiseMultiplier1_PatientCancer_mask027.mat.mat', 'workspace_NoiseMultiplier0_PatientCancer_mask029.mat.mat', 'workspace_NoiseMultiplier1_PatientCancer_mask029.mat.mat', 'workspace_NoiseMultiplier1_PatientCancer_mask026.mat.mat', 'prostate_segmentation.m', 'TENANT Notice of Loss rev.pdf', 'TENANT Notice of Loss rev.gdoc', 'Untitled folder', 'seg_Main_4_24_BenignONLY.m', 'Resume2024.gdoc', 'Resume2024_updated.pdf', 'CNN_Grad_Cam_Cancer_predictor', 'CancerPredictor.ipynb', 'CNNModelImageDrawer.m', 'Untitled document (1).gdoc', 'CancerData_PIA.mat', 'Untitled spreadsheet (1).gsheet', 'Resume2024_updated.gdoc', 'Truth_maps_6_3.gsheet', 'NewTP_FN_6_5.gsheet', 'TP_FN_FP_6_18.gsheet', 'Untitled document.gdoc', 'T2 stroma_pia.jpg', 'adc map_PIA.jpg', 'Masks.gsheet', 'Untitled spreadsheet.gsheet']\n"
          ]
        }
      ],
      "source": [
        "image_directory = 'Revised_Cells/'\n",
        "dir_list = os.listdir(path)\n",
        "print(\"Files and directories in '\", image_directory, \"' :\")\n",
        "# print the list\n",
        "print(dir_list)"
      ]
    },
    {
      "cell_type": "code",
      "execution_count": null,
      "metadata": {
        "id": "xBHB-sIj8uXg"
      },
      "outputs": [],
      "source": [
        "#del df['Outcome']\n",
        "#print(df.columns)"
      ]
    },
    {
      "cell_type": "code",
      "execution_count": 18,
      "metadata": {
        "colab": {
          "base_uri": "https://localhost:8080/",
          "height": 367
        },
        "id": "UIB4KpTmodNS",
        "outputId": "6e86f2b7-4985-4ab5-9914-22086f5170a5"
      },
      "outputs": [
        {
          "output_type": "stream",
          "name": "stderr",
          "text": [
            "  0%|          | 0/225 [00:00<?, ?it/s]\n"
          ]
        },
        {
          "output_type": "error",
          "ename": "FileNotFoundError",
          "evalue": "[Errno 2] No such file or directory: 'Revised_Cells/1Cell.png'",
          "traceback": [
            "\u001b[0;31m---------------------------------------------------------------------------\u001b[0m",
            "\u001b[0;31mFileNotFoundError\u001b[0m                         Traceback (most recent call last)",
            "\u001b[0;32m<ipython-input-18-20f40c7b9165>\u001b[0m in \u001b[0;36m<cell line: 3>\u001b[0;34m()\u001b[0m\n\u001b[1;32m      3\u001b[0m \u001b[0;32mfor\u001b[0m \u001b[0mi\u001b[0m \u001b[0;32min\u001b[0m \u001b[0mtqdm\u001b[0m\u001b[0;34m(\u001b[0m\u001b[0mrange\u001b[0m\u001b[0;34m(\u001b[0m\u001b[0mdf\u001b[0m\u001b[0;34m.\u001b[0m\u001b[0mshape\u001b[0m\u001b[0;34m[\u001b[0m\u001b[0;36m0\u001b[0m\u001b[0;34m]\u001b[0m\u001b[0;34m)\u001b[0m\u001b[0;34m)\u001b[0m\u001b[0;34m:\u001b[0m\u001b[0;34m\u001b[0m\u001b[0;34m\u001b[0m\u001b[0m\n\u001b[1;32m      4\u001b[0m     \u001b[0mimg2\u001b[0m \u001b[0;34m=\u001b[0m \u001b[0mcv2\u001b[0m\u001b[0;34m.\u001b[0m\u001b[0mimread\u001b[0m\u001b[0;34m(\u001b[0m\u001b[0;34m\"{}Cell.png\"\u001b[0m\u001b[0;34m.\u001b[0m\u001b[0mformat\u001b[0m\u001b[0;34m(\u001b[0m\u001b[0mi\u001b[0m\u001b[0;34m)\u001b[0m\u001b[0;34m,\u001b[0m \u001b[0mcv2\u001b[0m\u001b[0;34m.\u001b[0m\u001b[0mIMREAD_UNCHANGED\u001b[0m\u001b[0;34m)\u001b[0m\u001b[0;34m\u001b[0m\u001b[0;34m\u001b[0m\u001b[0m\n\u001b[0;32m----> 5\u001b[0;31m     \u001b[0mimg\u001b[0m \u001b[0;34m=\u001b[0m \u001b[0mtf\u001b[0m\u001b[0;34m.\u001b[0m\u001b[0mkeras\u001b[0m\u001b[0;34m.\u001b[0m\u001b[0mpreprocessing\u001b[0m\u001b[0;34m.\u001b[0m\u001b[0mimage\u001b[0m\u001b[0;34m.\u001b[0m\u001b[0mload_img\u001b[0m\u001b[0;34m(\u001b[0m\u001b[0mimage_directory\u001b[0m \u001b[0;34m+\u001b[0m\u001b[0mdf\u001b[0m\u001b[0;34m[\u001b[0m\u001b[0;34m'ID'\u001b[0m\u001b[0;34m]\u001b[0m\u001b[0;34m[\u001b[0m\u001b[0mi\u001b[0m\u001b[0;34m]\u001b[0m\u001b[0;34m,\u001b[0m \u001b[0mtarget_size\u001b[0m\u001b[0;34m=\u001b[0m\u001b[0;34m(\u001b[0m\u001b[0mSIZE\u001b[0m\u001b[0;34m,\u001b[0m\u001b[0mSIZE\u001b[0m\u001b[0;34m,\u001b[0m\u001b[0;36m3\u001b[0m\u001b[0;34m)\u001b[0m\u001b[0;34m)\u001b[0m\u001b[0;34m\u001b[0m\u001b[0;34m\u001b[0m\u001b[0m\n\u001b[0m\u001b[1;32m      6\u001b[0m     \u001b[0;31m#numpy array of each image at size 64, 64, 3 (color)\u001b[0m\u001b[0;34m\u001b[0m\u001b[0;34m\u001b[0m\u001b[0m\n\u001b[1;32m      7\u001b[0m     \u001b[0mimg\u001b[0m \u001b[0;34m=\u001b[0m \u001b[0mnp\u001b[0m\u001b[0;34m.\u001b[0m\u001b[0marray\u001b[0m\u001b[0;34m(\u001b[0m\u001b[0mimg\u001b[0m\u001b[0;34m)\u001b[0m\u001b[0;34m\u001b[0m\u001b[0;34m\u001b[0m\u001b[0m\n",
            "\u001b[0;32m/usr/local/lib/python3.10/dist-packages/keras/src/utils/image_utils.py\u001b[0m in \u001b[0;36mload_img\u001b[0;34m(path, color_mode, target_size, interpolation, keep_aspect_ratio)\u001b[0m\n\u001b[1;32m    233\u001b[0m         \u001b[0;32mif\u001b[0m \u001b[0misinstance\u001b[0m\u001b[0;34m(\u001b[0m\u001b[0mpath\u001b[0m\u001b[0;34m,\u001b[0m \u001b[0mpathlib\u001b[0m\u001b[0;34m.\u001b[0m\u001b[0mPath\u001b[0m\u001b[0;34m)\u001b[0m\u001b[0;34m:\u001b[0m\u001b[0;34m\u001b[0m\u001b[0;34m\u001b[0m\u001b[0m\n\u001b[1;32m    234\u001b[0m             \u001b[0mpath\u001b[0m \u001b[0;34m=\u001b[0m \u001b[0mstr\u001b[0m\u001b[0;34m(\u001b[0m\u001b[0mpath\u001b[0m\u001b[0;34m.\u001b[0m\u001b[0mresolve\u001b[0m\u001b[0;34m(\u001b[0m\u001b[0;34m)\u001b[0m\u001b[0;34m)\u001b[0m\u001b[0;34m\u001b[0m\u001b[0;34m\u001b[0m\u001b[0m\n\u001b[0;32m--> 235\u001b[0;31m         \u001b[0;32mwith\u001b[0m \u001b[0mopen\u001b[0m\u001b[0;34m(\u001b[0m\u001b[0mpath\u001b[0m\u001b[0;34m,\u001b[0m \u001b[0;34m\"rb\"\u001b[0m\u001b[0;34m)\u001b[0m \u001b[0;32mas\u001b[0m \u001b[0mf\u001b[0m\u001b[0;34m:\u001b[0m\u001b[0;34m\u001b[0m\u001b[0;34m\u001b[0m\u001b[0m\n\u001b[0m\u001b[1;32m    236\u001b[0m             \u001b[0mimg\u001b[0m \u001b[0;34m=\u001b[0m \u001b[0mpil_image\u001b[0m\u001b[0;34m.\u001b[0m\u001b[0mopen\u001b[0m\u001b[0;34m(\u001b[0m\u001b[0mio\u001b[0m\u001b[0;34m.\u001b[0m\u001b[0mBytesIO\u001b[0m\u001b[0;34m(\u001b[0m\u001b[0mf\u001b[0m\u001b[0;34m.\u001b[0m\u001b[0mread\u001b[0m\u001b[0;34m(\u001b[0m\u001b[0;34m)\u001b[0m\u001b[0;34m)\u001b[0m\u001b[0;34m)\u001b[0m\u001b[0;34m\u001b[0m\u001b[0;34m\u001b[0m\u001b[0m\n\u001b[1;32m    237\u001b[0m     \u001b[0;32melse\u001b[0m\u001b[0;34m:\u001b[0m\u001b[0;34m\u001b[0m\u001b[0;34m\u001b[0m\u001b[0m\n",
            "\u001b[0;31mFileNotFoundError\u001b[0m: [Errno 2] No such file or directory: 'Revised_Cells/1Cell.png'"
          ]
        }
      ],
      "source": [
        "SIZE = 360\n",
        "X_dataset = []\n",
        "for i in tqdm(range(df.shape[0])):\n",
        "    img2 = cv2.imread(\"{}Cell.png\".format(i), cv2.IMREAD_UNCHANGED)\n",
        "    img = tf.keras.preprocessing.image.load_img(image_directory +df['ID'][i], target_size=(SIZE,SIZE,3))\n",
        "    #numpy array of each image at size 64, 64, 3 (color)\n",
        "    img = np.array(img)\n",
        "    img = img/255.\n",
        "    X_dataset.append(img)\n",
        "\n",
        "#X2 = np.array(X_dataset)\n",
        ""
      ]
    },
    {
      "cell_type": "code",
      "execution_count": null,
      "metadata": {
        "id": "AqtpTA6OTywI"
      },
      "outputs": [],
      "source": [
        "X2 = np.array(X_dataset)\n",
        "print(X2.shape)\n",
        "\n",
        "# number of pictures, size, size, 3"
      ]
    },
    {
      "cell_type": "code",
      "execution_count": null,
      "metadata": {
        "id": "rXxyc4qOdQeI"
      },
      "outputs": [],
      "source": [
        "#ID is not labels to be trained. So drop them from the dataframe.\n",
        "#No need to convert to categorical as the dataset is already in the right format.\n",
        "\n",
        "y2 = np.array(df.drop(['ID'], axis=1))\n",
        "print(y2)"
      ]
    },
    {
      "cell_type": "code",
      "execution_count": null,
      "metadata": {
        "id": "K-5BIWUQd3o4"
      },
      "outputs": [],
      "source": [
        "print(df['ID'][0])  #Cell1.png\n",
        "print(df['Normal'][0]) #1 = no"
      ]
    },
    {
      "cell_type": "code",
      "execution_count": null,
      "metadata": {
        "id": "70u10vWTWYxM"
      },
      "outputs": [],
      "source": [
        "X_train2, X_test2, y_train2, y_test2 = train_test_split(X2, y2, random_state=5, test_size=0.3)"
      ]
    },
    {
      "cell_type": "code",
      "execution_count": null,
      "metadata": {
        "id": "lico2QWfWakK"
      },
      "outputs": [],
      "source": [
        "#pip install keras-rectified-adam"
      ]
    },
    {
      "cell_type": "code",
      "execution_count": null,
      "metadata": {
        "id": "clERnZkwcDkp"
      },
      "outputs": [],
      "source": [
        "#import keras_radam\n",
        "#from keras_radam import RAdam"
      ]
    },
    {
      "cell_type": "code",
      "execution_count": null,
      "metadata": {
        "id": "6SVHCNhtSUGe"
      },
      "outputs": [],
      "source": [
        "sample_weight = {     0:2.454545455,\n",
        "                      1:2.197674419,\n",
        "                      2:3.15,\n",
        "                      3:5.90625,\n",
        "                      4:1,\n",
        "                      5:37.8,\n",
        "                      }"
      ]
    },
    {
      "cell_type": "code",
      "execution_count": null,
      "metadata": {
        "id": "pEgd-UBF_5Dp"
      },
      "outputs": [],
      "source": [
        "model2 = Sequential()\n",
        "model2.add(Conv2D(filters=8, kernel_size=(10, 10), activation=\"relu\", input_shape=(SIZE,SIZE,3)))\n",
        "model2.add(BatchNormalization())\n",
        "model2.add(MaxPooling2D(pool_size=(2, 2)))\n",
        "model2.add(Dropout(1e-1))\n",
        "\n",
        "model2.add(Conv2D(filters=64, kernel_size=(5, 5), activation=\"relu\", input_shape=(SIZE,SIZE,3)))\n",
        "model2.add(BatchNormalization())\n",
        "model2.add(MaxPooling2D(pool_size=(2, 2)))\n",
        "model2.add(Dropout(1e-2))\n",
        "\n",
        "model2.add(Conv2D(filters=256, kernel_size=(3, 3), activation='relu'))\n",
        "model2.add(MaxPooling2D(pool_size=(2, 2)))\n",
        "model2.add(BatchNormalization())\n",
        "model2.add(Dropout(1e-2))\n",
        "\n",
        "model2.add(Conv2D(filters=512, kernel_size=(3, 3), activation='relu'))\n",
        "model2.add(MaxPooling2D(pool_size=(2, 2)))\n",
        "model2.add(BatchNormalization())\n",
        "model2.add(Dropout(1e-3))\n",
        "\n",
        "model2.add(Conv2D(filters=512, kernel_size=(3, 3), activation='relu'))\n",
        "model2.add(MaxPooling2D(pool_size=(2, 2)))\n",
        "model2.add(BatchNormalization())\n",
        "model2.add(Dropout(1e-3))\n",
        "\n",
        "model2.add(Conv2D(filters=1024, kernel_size=(3, 3), activation='relu'))\n",
        "model2.add(MaxPooling2D(pool_size=(2, 2)))\n",
        "model2.add(BatchNormalization())\n",
        "model2.add(Dropout(1e-3))\n",
        "\n",
        "model2.add(Flatten())\n",
        "model2.add(Dense(1024, activation='relu'))\n",
        "model2.add(Dropout(1e-1))\n",
        "model2.add(Dense(1024, activation='relu'))\n",
        "model2.add(Dropout(1e-2))\n",
        "model2.add(Dense(512, activation='relu'))\n",
        "model2.add(Dropout(1e-3))\n",
        "model2.add(Dense(256, activation='relu'))\n",
        "model2.add(Dropout(1e-3))\n",
        "model2.add(Dense(124, activation='relu'))\n",
        "model2.add(Dropout(1e-3))\n",
        "model2.add(Dense(64, activation='relu'))\n",
        "model2.add(Dropout(1e-3))\n",
        "model2.add(Dense(32, activation='relu'))\n",
        "model2.add(Dropout(1e-3))\n",
        "model2.add(Dense(16, activation='relu'))\n",
        "model2.add(Dropout(1e-5))\n",
        "model2.add(Dense(6, activation='sigmoid'))\n",
        "\n",
        "#Do not use softmax for multilabel classification\n",
        "#Softmax is useful for mutually exclusive classes, either cat or dog but not both.\n",
        "#Also, softmax outputs all add to 1. So good for multi class problems where each\n",
        "#class is given a probability and all add to 1. Highest one wins.\n",
        "\n",
        "#Sigmoid outputs probability. Can be used for non-mutually exclusive problems.\n",
        "#like multi label, in this example.\n",
        "#But, also good for binary mutually exclusive (cat or not cat).\n",
        "\n",
        "model2.summary()\n",
        "\n",
        "#Binary cross entropy of each label. So no really a binary classification problem but\n",
        "#Calculating binary cross entropy for each label.\n",
        "opt = tf.keras.optimizers.Adam(\n",
        "    learning_rate=1e-7,\n",
        "    beta_1=0.8,\n",
        "    beta_2=0.9999,\n",
        "    epsilon=1e-1,\n",
        "    name='Adam')\n",
        "\n",
        "model2.compile(optimizer=opt, loss='binary_crossentropy', metrics=['accuracy', 'mse', tf.keras.metrics.AUC(curve='PR') ])\n",
        "\n",
        "\n"
      ]
    },
    {
      "cell_type": "code",
      "execution_count": null,
      "metadata": {
        "id": "J8Z5iX28zxmr"
      },
      "outputs": [],
      "source": [
        "history = model2.fit(X_train2, y_train2, epochs=300, validation_data=(X_test2, y_test2), batch_size=181, class_weight = sample_weight, shuffle = True)"
      ]
    },
    {
      "cell_type": "markdown",
      "metadata": {
        "id": "7RIrum3P1EiA"
      },
      "source": []
    },
    {
      "cell_type": "code",
      "execution_count": null,
      "metadata": {
        "id": "-4ADSqzR_XnG"
      },
      "outputs": [],
      "source": [
        "path = %cd /content/drive/MyDrive/\n",
        "model2.save('Multiclass_Keras_1122.model')"
      ]
    },
    {
      "cell_type": "code",
      "execution_count": null,
      "metadata": {
        "id": "Qzh1D-ZLw3uM"
      },
      "outputs": [],
      "source": [
        "#plot the training and validation accuracy and loss at each epoch\n",
        "#loss = history.history['loss']\n",
        "#val_loss = history.history['val_loss']\n",
        "#epochs = range(1, 10 + 1)\n",
        "#plt.plot(epochs, loss, 'y', label='Training loss')\n",
        "#plt.plot(epochs, val_loss, 'r', label='Validation loss')\n",
        "#plt.title('Training and validation loss')\n",
        "#plt.xlabel('Epochs')\n",
        "#plt.ylabel('Loss')\n",
        "#plt.legend()\n",
        "#plt.show()\n",
        "\n",
        "\n",
        "#acc = history.history['accuracy']\n",
        "#val_acc = history.history['val_accuracy']\n",
        "#plt.plot(epochs, acc, 'y', label='Training acc')\n",
        "#plt.plot(epochs, val_acc, 'r', label='Validation acc')\n",
        "#plt.title('Training and validation accuracy')\n",
        "#plt.xlabel('Epochs')\n",
        "#plt.ylabel('Accuracy')\n",
        "#plt.legend()\n",
        "#plt.show()\n",
        "\n",
        "plt.plot(history.history['accuracy'])\n",
        "plt.title('Accuracy')\n",
        "plt.xlabel('Epochs')\n",
        "plt.ylabel('Accuracy')\n",
        "plt.legend()\n",
        "plt.show()\n",
        "\n",
        "plt.plot(history.history['mse'])\n",
        "plt.title('MeanSquare Error')\n",
        "plt.xlabel('Epochs')\n",
        "plt.ylabel('MSE')\n",
        "plt.legend()\n",
        "plt.show()\n",
        "\n",
        "plt.plot(history.history['auc'])\n",
        "plt.title('Area Under Curve Accuracy')\n",
        "plt.xlabel('Epochs')\n",
        "plt.ylabel('Integral')\n",
        "plt.legend()\n",
        "plt.show()\n",
        "\n",
        "\n",
        "plt.plot(history.history['loss'])\n",
        "plt.title('Area Under Curve Accuracy')\n",
        "plt.xlabel('Epochs')\n",
        "plt.ylabel('loss')\n",
        "plt.legend()\n",
        "plt.show()\n"
      ]
    }
  ],
  "metadata": {
    "colab": {
      "provenance": [],
      "include_colab_link": true
    },
    "gpuClass": "standard",
    "kernelspec": {
      "display_name": "Python 3",
      "name": "python3"
    },
    "language_info": {
      "name": "python"
    }
  },
  "nbformat": 4,
  "nbformat_minor": 0
}